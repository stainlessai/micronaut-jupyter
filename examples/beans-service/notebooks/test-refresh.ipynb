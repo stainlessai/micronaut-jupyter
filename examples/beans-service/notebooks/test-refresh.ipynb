{
 "cells": [
  {
   "metadata": {},
   "cell_type": "raw",
   "source": "",
   "id": "9c80e5342dda91b5"
  }
 ],
 "metadata": {},
 "nbformat": 4,
 "nbformat_minor": 5
}
