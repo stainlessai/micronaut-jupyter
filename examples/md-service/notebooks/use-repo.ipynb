{
 "cells": [
  {
   "cell_type": "code",
   "execution_count": 1,
   "metadata": {},
   "outputs": [
    {
     "data": {
      "text/plain": [
       "micronaut.examples.md.repositories.FriendRepository$Intercepted@460bbe09"
      ]
     },
     "execution_count": 1,
     "metadata": {},
     "output_type": "execute_result"
    }
   ],
   "source": [
    "// get our repository\n",
    "friends = service micronaut.examples.md.repositories.FriendRepository"
   ]
  },
  {
   "cell_type": "code",
   "execution_count": 2,
   "metadata": {},
   "outputs": [
    {
     "data": {
      "text/plain": [
       "[]"
      ]
     },
     "execution_count": 2,
     "metadata": {},
     "output_type": "execute_result"
    }
   ],
   "source": [
    "// list all of the current people\n",
    "friends.findAll().collect { it.firstName + \" \" + it.lastName }"
   ]
  },
  {
   "cell_type": "code",
   "execution_count": 3,
   "metadata": {},
   "outputs": [
    {
     "data": {
      "text/plain": [
       "[micronaut.examples.md.domains.Person@52c68d80, micronaut.examples.md.domains.Person@5bd135ac]"
      ]
     },
     "execution_count": 3,
     "metadata": {},
     "output_type": "execute_result"
    }
   ],
   "source": [
    "// No friends?? Let's create some.\n",
    "import micronaut.examples.md.domains.Person\n",
    "\n",
    "def netty = new Person(firstName: \"Netty\", lastName: \"Dobs\")\n",
    "def fred = new Person(firstName: \"Fred\", lastName: \"Dobs\")\n",
    "netty.friends.add(fred)\n",
    "fred.friends.add(netty)\n",
    "friends.saveAll([netty, fred])"
   ]
  },
  {
   "cell_type": "code",
   "execution_count": 4,
   "metadata": {},
   "outputs": [
    {
     "name": "stdout",
     "output_type": "stream",
     "text": [
      "Netty's friends are: [Fred Dobs]\n",
      "Fred's friends are: [Netty Dobs]\n"
     ]
    }
   ],
   "source": [
    "// now, netty and fred are friends\n",
    "def netty = friends.find(\"Netty\", \"Dobs\")\n",
    "println \"Netty's friends are: ${netty.friends.collect { \"$it.firstName $it.lastName\" }}\"\n",
    "def fred = friends.find(\"Fred\", \"Dobs\")\n",
    "println \"Fred's friends are: ${fred.friends.collect { \"$it.firstName $it.lastName\" }}\""
   ]
  },
  {
   "cell_type": "code",
   "execution_count": 5,
   "metadata": {},
   "outputs": [
    {
     "data": {
      "text/plain": [
       "[Netty Dobs, Fred Dobs]"
      ]
     },
     "execution_count": 5,
     "metadata": {},
     "output_type": "execute_result"
    }
   ],
   "source": [
    "// list all of the current people\n",
    "friends.findAll().collect { it.firstName + \" \" + it.lastName }"
   ]
  },
  {
   "cell_type": "code",
   "execution_count": null,
   "metadata": {},
   "outputs": [],
   "source": []
  }
 ],
 "metadata": {
  "kernelspec": {
   "display_name": "Micronaut",
   "language": "groovy",
   "name": "micronaut"
  },
  "language_info": {
   "codemirror_mode": "groovy",
   "file_extension": ".groovy",
   "mimetype": "",
   "name": "Groovy",
   "nbconverter_exporter": "",
   "version": "4.0.26"
  }
 },
 "nbformat": 4,
 "nbformat_minor": 4
}
