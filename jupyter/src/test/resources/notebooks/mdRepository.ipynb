{
 "cells": [
  {
   "cell_type": "code",
   "execution_count": 1,
   "metadata": {},
   "outputs": [
    {
     "name": "stdout",
     "output_type": "stream",
     "text": [
      "micronaut.examples.md.repositories.FriendRepository$Intercepted@f5975f2"
     ]
    },
    {
     "data": {
      "text/plain": [
       "null"
      ]
     },
     "execution_count": 1,
     "metadata": {},
     "output_type": "execute_result"
    }
   ],
   "source": [
    "friends = service(ai.stainless.micronaut.jupyter.md.FriendRepository)\n",
    "//friends = service(micronaut.examples.md.repositories.FriendRepository)\n",
    "\n",
    "print friends"
   ]
  },
  {
   "cell_type": "code",
   "execution_count": 3,
   "metadata": {},
   "outputs": [
    {
     "data": {
      "text/plain": [
       "io.micronaut.data.runtime.intercept.AbstractQueryInterceptor$DefaultBatchOperation@32cc835e"
     ]
    },
     "execution_count": 3,
     "metadata": {},
     "output_type": "execute_result"
    }
   ],
   "source": [
    "import ai.stainless.micronaut.jupyter.md.Person\n",
    "//import micronaut.examples.md.domains.Person\n",
    "\n",
    "def josh = new Person(\"Joshua\", \"Carter\")\n",
    "def fred = new Person(\"Fred\", \"Dobbs\")\n",
    "josh.friends.add(fred)\n",
    "fred.friends.add(josh)\n",
    "friends.saveAll([josh, fred])"
   ]
  },
  {
   "cell_type": "code",
   "execution_count": 4,
   "metadata": {},
   "outputs": [
    {
     "data": {
      "text/plain": [
       "[Joshua Carter, Fred Dobbs]"
      ]
     },
     "execution_count": 4,
     "metadata": {},
     "output_type": "execute_result"
    }
   ],
   "source": [
    "friends.findAll().collect{\"$it.firstName $it.lastName\"}"
   ]
  },
  {
   "cell_type": "code",
   "execution_count": 5,
   "metadata": {},
   "outputs": [
    {
     "ename": "org.hibernate.LazyInitializationException",
     "evalue": " failed to lazily initialize a collection of role",
     "output_type": "error",
     "text": "org.hibernate.LazyInitializationException: failed to lazily initialize a collection of role: micronaut.examples.md.domains.Person.friends, could not initialize proxy - no Session\n\tat org.hibernate.collection.internal.AbstractPersistentCollection.throwLazyInitializationException(AbstractPersistentCollection.java:606)\n\tat org.hibernate.collection.internal.AbstractPersistentCollection.withTemporarySessionIfNeeded(AbstractPersistentCollection.java:218)\n\tat org.hibernate.collection.internal.AbstractPersistentCollection.initialize(AbstractPersistentCollection.java:585)\n\tat org.hibernate.collection.internal.AbstractPersistentCollection.read(AbstractPersistentCollection.java:149)\n\tat org.hibernate.collection.internal.PersistentBag.iterator(PersistentBag.java:363)\n\tat this cell line 2\n\tat com.twosigma.beakerx.groovy.evaluator.GroovyCodeRunner.runScript(GroovyCodeRunner.java:94)\n\tat com.twosigma.beakerx.groovy.evaluator.GroovyCodeRunner.call(GroovyCodeRunner.java:59)\n\tat com.twosigma.beakerx.groovy.evaluator.GroovyCodeRunner.call(GroovyCodeRunner.java:32)\n",
     "traceback": [
      "\u001b[1;31morg.hibernate.LazyInitializationException: failed to lazily initialize a collection of role: micronaut.examples.md.domains.Person.friends, could not initialize proxy - no Session\u001b[0;0m",
      "\u001b[1;31m\tat org.hibernate.collection.internal.AbstractPersistentCollection.throwLazyInitializationException(AbstractPersistentCollection.java:606)\u001b[0;0m",
      "\u001b[1;31m\tat org.hibernate.collection.internal.AbstractPersistentCollection.withTemporarySessionIfNeeded(AbstractPersistentCollection.java:218)\u001b[0;0m",
      "\u001b[1;31m\tat org.hibernate.collection.internal.AbstractPersistentCollection.initialize(AbstractPersistentCollection.java:585)\u001b[0;0m",
      "\u001b[1;31m\tat org.hibernate.collection.internal.AbstractPersistentCollection.read(AbstractPersistentCollection.java:149)\u001b[0;0m",
      "\u001b[1;31m\tat org.hibernate.collection.internal.PersistentBag.iterator(PersistentBag.java:363)\u001b[0;0m",
      "\u001b[1;31m\tat this cell line 2\u001b[0;0m",
      "\u001b[0;31m\tat com.twosigma.beakerx.groovy.evaluator.GroovyCodeRunner.runScript(GroovyCodeRunner.java:94)\u001b[0;0m",
      "\u001b[0;31m\tat com.twosigma.beakerx.groovy.evaluator.GroovyCodeRunner.call(GroovyCodeRunner.java:59)\u001b[0;0m",
      "\u001b[0;31m\tat com.twosigma.beakerx.groovy.evaluator.GroovyCodeRunner.call(GroovyCodeRunner.java:32)\u001b[0;0m"
     ]
    }
   ],
   "source": [
    "def josh = friends.find(\"Joshua\", \"Carter\")\n",
    "println josh.friends.collect{\"$it.firstName $it.lastName\"}"
   ]
  },
  {
   "cell_type": "code",
   "execution_count": null,
   "metadata": {},
   "outputs": [],
   "source": []
  }
 ],
 "metadata": {
  "kernelspec": {
   "display_name": "Micronaut",
   "language": "groovy",
   "name": "micronaut"
  },
  "language_info": {
   "codemirror_mode": "groovy",
   "file_extension": ".groovy",
   "mimetype": "",
   "name": "Groovy",
   "nbconverter_exporter": "",
   "version": "2.5.6"
  }
 },
 "nbformat": 4,
 "nbformat_minor": 4
}