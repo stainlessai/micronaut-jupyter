{
 "cells": [
  {
   "cell_type": "code",
   "execution_count": null,
   "metadata": {},
   "outputs": [],
   "source": [
    "%import ai.stainless.micronaut.jupyter.test.ReactiveHttpService\n",
    "import java.util.concurrent.TimeUnit\n",
    "\n",
    "println \"Starting reactive HTTP test with non-blocking call...\"\n",
    "\n",
    "startTime = System.currentTimeMillis()"
   ]
  },
  {
   "cell_type": "code",
   "execution_count": null,
   "metadata": {},
   "outputs": [],
   "source": [
    "// Get the service from the application context\n",
    "service = applicationContext.getBean(ReactiveHttpService.class)\n",
    "println \"Got ReactiveHttpService: ${service.class.name}\""
   ]
  },
  {
   "cell_type": "code",
   "execution_count": null,
   "metadata": {},
   "outputs": [],
   "source": [
    "// This should handle interruption more gracefully\n",
    "try {\n",
    "    println \"Making non-blocking HTTP call with timeout...\"\n",
    "    def result = service.makeNonBlockingCall(\n",
    "        System.getProperty('test.slow.url', 'http://localhost:8888/slow'), \n",
    "        10 // 10 second timeout\n",
    "    )\n",
    "    def endTime = System.currentTimeMillis()\n",
    "    println \"SUCCESS: Got result after ${endTime - startTime}ms: ${result?.take(100)}...\"\n",
    "} catch (ThreadDeath td) {\n",
    "    println \"CAUGHT ThreadDeath: ${td.class.name} - ${td.message}\"\n",
    "    throw td // Re-throw ThreadDeath as it should not be suppressed\n",
    "} catch (Exception e) {\n",
    "    def endTime = System.currentTimeMillis()\n",
    "    println \"TIMEOUT/ERROR after ${endTime - startTime}ms: ${e.class.name} - ${e.message}\"\n",
    "}"
   ]
  }
 ],
 "metadata": {
  "kernelspec": {
   "display_name": "Micronaut",
   "language": "groovy",
   "name": "micronaut"
  },
  "language_info": {
   "name": "groovy"
  }
 },
 "nbformat": 4,
 "nbformat_minor": 4
}
