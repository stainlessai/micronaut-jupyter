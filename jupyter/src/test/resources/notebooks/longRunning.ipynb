{
  "cells": [
    {
      "cell_type": "code",
      "execution_count": null,
      "metadata": {},
      "outputs": [],
      "source": [
        "println \"Starting long-running computation\"\n",
        "startTime = System.currentTimeMillis()"
      ]
    },
    {
      "cell_type": "code",
      "execution_count": null,
      "metadata": {},
      "outputs": [],
      "source": [
        "// Simulate long-running work\n",
        "for (int i = 0; i < 5; i++) {\n",
        "    Thread.sleep(1000)\n",
        "    println \"Step ${i + 1} completed\"\n",
        "}"
      ]
    },
    {
      "cell_type": "code",
      "execution_count": null,
      "metadata": {},
      "outputs": [],
      "source": [
        "endTime = System.currentTimeMillis()\n",
        "println \"Long-running computation completed in ${endTime - startTime}ms\""
      ]
    }
  ],
  "metadata": {
    "kernelspec": {
      "display_name": "Micronaut",
      "language": "groovy",
      "name": "micronaut"
    }
  },
  "nbformat": 4,
  "nbformat_minor": 2
}