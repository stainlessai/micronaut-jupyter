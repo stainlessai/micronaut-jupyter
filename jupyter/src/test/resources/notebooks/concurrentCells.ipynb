{
  "cells": [
    {
      "cell_type": "code",
      "execution_count": null,
      "metadata": {},
      "outputs": [],
      "source": [
        "%import java.util.concurrent.CompletableFuture\n",
        "%import java.util.concurrent.TimeUnit"
      ]
    },
    {
      "cell_type": "code",
      "execution_count": null,
      "metadata": {},
      "outputs": [],
      "source": [
        "timestamp1 = System.currentTimeMillis()"
      ]
    },
    {
      "cell_type": "code",
      "execution_count": null,
      "metadata": {},
      "outputs": [],
      "source": [
        "// Simulate some work\n",
        "Thread.sleep(50)\n",
        "timestamp2 = System.currentTimeMillis()"
      ]
    },
    {
      "cell_type": "code",
      "execution_count": null,
      "metadata": {},
      "outputs": [],
      "source": [
        "timestamp3 = System.currentTimeMillis()"
      ]
    },
    {
      "cell_type": "code",
      "execution_count": null,
      "metadata": {},
      "outputs": [],
      "source": [
        "println \"Timing results:\"\n",
        "println \"Timestamp 1: ${timestamp1}\"\n",
        "println \"Timestamp 2: ${timestamp2}\"\n",
        "println \"Timestamp 3: ${timestamp3}\"\n",
        "println \"Difference 2-1: ${timestamp2 - timestamp1}ms\"\n",
        "println \"Difference 3-1: ${timestamp3 - timestamp1}ms\""
      ]
    }
  ],
  "metadata": {
    "kernelspec": {
      "display_name": "Micronaut",
      "language": "groovy",
      "name": "micronaut"
    }
  },
  "nbformat": 4,
  "nbformat_minor": 2
}