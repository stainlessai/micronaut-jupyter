{
 "cells": [
  {
   "cell_type": "code",
   "execution_count": null,
   "metadata": {},
   "outputs": [],
   "source": [
    "%import ai.stainless.micronaut.jupyter.test.ReactiveHttpService\n",
    "import java.util.concurrent.TimeUnit\n",
    "\n",
    "println \"Starting reactive HTTP test with error handling...\"\n",
    "startTime = System.currentTimeMillis()"
   ]
  },
  {
   "cell_type": "code",
   "execution_count": null,
   "metadata": {},
   "outputs": [],
   "source": [
    "// Get the service from the application context\n",
    "service = applicationContext.getBean(ReactiveHttpService.class)\n",
    "println \"Got ReactiveHttpService: ${service.class.name}\""
   ]
  },
  {
   "cell_type": "code",
   "execution_count": null,
   "metadata": {},
   "outputs": [],
   "source": [
    "// This uses onErrorReturn to handle failures gracefully\n",
    "try {\n",
    "    println \"Making HTTP call with built-in error handling...\"\n",
    "    def result = service.makeCallWithErrorHandling(\n",
    "        System.getProperty('test.slow.url', 'http://localhost:8080/slow'),\n",
    "        10 // 10 second timeout\n",
    "    )\n",
    "    def endTime = System.currentTimeMillis()\n",
    "    println \"COMPLETED after ${endTime - startTime}ms: ${result}\"\n",
    "} catch (ThreadDeath td) {\n",
    "    println \"CAUGHT ThreadDeath: ${td.class.name} - ${td.message}\"\n",
    "    throw td // Re-throw ThreadDeath as it should not be suppressed\n",
    "} catch (Exception e) {\n",
    "    def endTime = System.currentTimeMillis()\n",
    "    println \"UNEXPECTED ERROR after ${endTime - startTime}ms: ${e.class.name} - ${e.message}\"\n",
    "}"
   ]
  }
 ],
 "metadata": {
  "kernelspec": {
   "display_name": "Micronaut",
   "language": "groovy",
   "name": "micronaut"
  },
  "language_info": {
   "name": "groovy"
  }
 },
 "nbformat": 4,
 "nbformat_minor": 4
}
