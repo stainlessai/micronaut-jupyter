{
 "cells": [
  {
   "cell_type": "code",
   "execution_count": 10,
   "metadata": {},
   "outputs": [],
   "source": [
    "%import org.slf4j.Logger\n",
    "%import org.slf4j.LoggerFactory\n",
    "%import groovy.util.logging.Slf4j"
   ]
  },
  {
   "cell_type": "code",
   "execution_count": 13,
   "metadata": {},
   "outputs": [
    {
     "data": {
      "text/plain": [
       "Logger[jupyter.notebook.logging]"
      ]
     },
     "execution_count": 13,
     "metadata": {},
     "output_type": "execute_result"
    }
   ],
   "source": [
    "log = LoggerFactory.getLogger(\"jupyter.notebook.logging\")"
   ]
  },
  {
   "cell_type": "code",
   "execution_count": 17,
   "metadata": {},
   "outputs": [
    {
     "name": "stdout",
     "output_type": "stream",
     "text": [
      "Before in-cell logging\n",
      "\u001B[36m15:07:51.150\u001B[0;39m \u001B[1;30m[Thread-78]\u001B[0;39m \u001B[34mINFO \u001B[0;39m \u001B[35mjupyter.notebook.logging\u001B[0;39m - Info line\n",
      "\u001B[36m15:07:51.151\u001B[0;39m \u001B[1;30m[Thread-78]\u001B[0;39m \u001B[31mWARN \u001B[0;39m \u001B[35mjupyter.notebook.logging\u001B[0;39m - Warning line\n",
      "\u001B[36m15:07:51.162\u001B[0;39m \u001B[1;30m[Thread-78]\u001B[0;39m \u001B[1;31mERROR\u001B[0;39m \u001B[35mjupyter.notebook.logging\u001B[0;39m - Error line\n",
      "After in-cell logging\n"
     ]
    },
    {
     "data": {
      "text/plain": [
       "null"
      ]
     },
     "execution_count": 17,
     "metadata": {},
     "output_type": "execute_result"
    }
   ],
   "source": [
    "println \"Before in-cell logging\"\n",
    "log.info(\"Info line\")\n",
    "log.warn(\"Warning line\")\n",
    "log.error(\"Error line\")\n",
    "println \"After in-cell logging\""
   ]
  },
  {
   "cell_type": "code",
   "execution_count": 11,
   "metadata": {},
   "outputs": [
    {
     "data": {
      "text/plain": [
       "null"
      ]
     },
     "execution_count": 11,
     "metadata": {},
     "output_type": "execute_result"
    }
   ],
   "source": [
    "@Slf4j\n",
    "class ClassThatLogs {\n",
    "    def methodThatLogs () {\n",
    "        log.info (\"Info line\")\n",
    "        log.warn (\"Warning line\")\n",
    "        log.error (\"Error line\")\n",
    "    }\n",
    "}"
   ]
  },
  {
   "cell_type": "code",
   "execution_count": 18,
   "metadata": {},
   "outputs": [
    {
     "name": "stdout",
     "output_type": "stream",
     "text": [
      "Before in-class logging\n",
      "\u001B[36m15:07:53.293\u001B[0;39m \u001B[1;30m[Thread-79]\u001B[0;39m \u001B[34mINFO \u001B[0;39m \u001B[35mClassThatLogs\u001B[0;39m - Info line\n",
      "\u001B[36m15:07:53.294\u001B[0;39m \u001B[1;30m[Thread-79]\u001B[0;39m \u001B[31mWARN \u001B[0;39m \u001B[35mClassThatLogs\u001B[0;39m - Warning line\n",
      "\u001B[36m15:07:53.294\u001B[0;39m \u001B[1;30m[Thread-79]\u001B[0;39m \u001B[1;31mERROR\u001B[0;39m \u001B[35mClassThatLogs\u001B[0;39m - Error line\n",
      "After in-class logging\n"
     ]
    },
    {
     "data": {
      "text/plain": [
       "null"
      ]
     },
     "execution_count": 18,
     "metadata": {},
     "output_type": "execute_result"
    }
   ],
   "source": [
    "def logTest = new ClassThatLogs()\n",
    "println \"Before in-class logging\"\n",
    "logTest.methodThatLogs()\n",
    "println \"After in-class logging\""
   ]
  },
  {
   "cell_type": "code",
   "execution_count": 19,
   "metadata": {},
   "outputs": [
    {
     "ename": "unable to resolve class ai.stainless.micronaut.jupyter.logging.LoggingClass  @ line 1, column 15.",
     "evalue": "unable to resolve class ai.stainless.micronaut.jupyter.logging.LoggingClass  @ line 1, column 15.",
     "output_type": "error",
     "text": "unable to resolve class ai.stainless.micronaut.jupyter.logging.LoggingClass  @ line 1, column 15.\n   def logTest = new ai.stainless.micronaut.jupyter.logging.LoggingClass()\n                 ^\n\n1 error\n\n\tat com.twosigma.beakerx.groovy.evaluator.GroovyCodeRunner.call(GroovyCodeRunner.java:55)\n\tat com.twosigma.beakerx.groovy.evaluator.GroovyCodeRunner.call(GroovyCodeRunner.java:32)\n\tat java_util_concurrent_Callable$call.call(Unknown Source)\n\tat ai.stainless.micronaut.jupyter.kernel.MicronautWorkerThread.executeCode(MicronautWorkerThread.groovy:43)\n\tat ai.stainless.micronaut.jupyter.kernel.MicronautWorkerThread$_call_closure1.doCall(MicronautWorkerThread.groovy:62)\n\tat ai.stainless.micronaut.jupyter.kernel.MicronautWorkerThread$_call_closure1.doCall(MicronautWorkerThread.groovy)",
     "traceback": [
      "\u001B[1;31munable to resolve class ai.stainless.micronaut.jupyter.logging.LoggingClass  @ line 1, column 15.\u001B[0;0m",
      "\u001B[1;31m   def logTest = new ai.stainless.micronaut.jupyter.logging.LoggingClass()\u001B[0;0m",
      "\u001B[1;31m                 ^\u001B[0;0m",
      "\u001B[1;31m\u001B[0;0m",
      "\u001B[1;31m1 error\u001B[0;0m",
      "\u001B[1;31m\u001B[0;0m",
      "\u001B[0;31m\tat com.twosigma.beakerx.groovy.evaluator.GroovyCodeRunner.call(GroovyCodeRunner.java:55)\u001B[0;0m",
      "\u001B[0;31m\tat com.twosigma.beakerx.groovy.evaluator.GroovyCodeRunner.call(GroovyCodeRunner.java:32)\u001B[0;0m",
      "\u001B[0;31m\tat java_util_concurrent_Callable$call.call(Unknown Source)\u001B[0;0m",
      "\u001B[0;31m\tat ai.stainless.micronaut.jupyter.kernel.MicronautWorkerThread.executeCode(MicronautWorkerThread.groovy:43)\u001B[0;0m",
      "\u001B[0;31m\tat ai.stainless.micronaut.jupyter.kernel.MicronautWorkerThread$_call_closure1.doCall(MicronautWorkerThread.groovy:62)\u001B[0;0m",
      "\u001B[0;31m\tat ai.stainless.micronaut.jupyter.kernel.MicronautWorkerThread$_call_closure1.doCall(MicronautWorkerThread.groovy)\u001B[0;0m"
     ]
    }
   ],
   "source": [
    "%import ai.stainless.micronaut.jupyter.logging.LoggingClass\n",
    "def logTest = new LoggingClass()\n",
    "println \"Before in-library logging\"\n",
    "logTest.loggingMethod()\n",
    "println \"After in-library logging\""
   ]
  },
  {
   "cell_type": "code",
   "execution_count": null,
   "metadata": {},
   "outputs": [],
   "source": []
  }
 ],
 "metadata": {
  "kernelspec": {
   "display_name": "Micronaut",
   "language": "groovy",
   "name": "micronaut"
  },
  "language_info": {
   "codemirror_mode": "groovy",
   "file_extension": ".groovy",
   "mimetype": "",
   "name": "Groovy",
   "nbconverter_exporter": "",
   "version": "2.5.6"
  }
 },
 "nbformat": 4,
 "nbformat_minor": 4
}
