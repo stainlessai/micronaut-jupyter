{
  "cells": [
    {
      "cell_type": "code",
      "execution_count": null,
      "metadata": {},
      "outputs": [],
      "source": [
        "sharedVar = 10"
      ]
    },
    {
      "cell_type": "code",
      "execution_count": null,
      "metadata": {},
      "outputs": [],
      "source": [
        "// Do some operations with the variable\n",
        "for (int i = 0; i < 3; i++) {\n",
        "    sharedVar += 1\n",
        "}"
      ]
    },
    {
      "cell_type": "code",
      "execution_count": null,
      "metadata": {},
      "outputs": [],
      "source": [
        "println \"Session 1 final value: ${sharedVar}\""
      ]
    }
  ],
  "metadata": {
    "kernelspec": {
      "display_name": "Micronaut",
      "language": "groovy",
      "name": "micronaut"
    }
  },
  "nbformat": 4,
  "nbformat_minor": 2
}