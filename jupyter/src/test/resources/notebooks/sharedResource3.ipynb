{
  "cells": [
    {
      "cell_type": "code",
      "execution_count": null,
      "metadata": {},
      "outputs": [],
      "source": [
        "%import ai.stainless.micronaut.jupyter.logging.LoggingClass"
      ]
    },
    {
      "cell_type": "code",
      "execution_count": null,
      "metadata": {},
      "outputs": [],
      "source": [
        "logger = new LoggingClass()"
      ]
    },
    {
      "cell_type": "code",
      "execution_count": null,
      "metadata": {},
      "outputs": [],
      "source": [
        "logger.logInfo(\"Client 3 accessing shared logging service\")"
      ]
    },
    {
      "cell_type": "code",
      "execution_count": null,
      "metadata": {},
      "outputs": [],
      "source": [
        "println \"Client 3 completed successfully\""
      ]
    }
  ],
  "metadata": {
    "kernelspec": {
      "display_name": "Micronaut",
      "language": "groovy",
      "name": "micronaut"
    }
  },
  "nbformat": 4,
  "nbformat_minor": 2
}