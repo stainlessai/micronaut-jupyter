{
 "cells": [
  {
   "cell_type": "code",
   "execution_count": null,
   "metadata": {},
   "outputs": [],
   "source": [
    "println \"Starting sleep test...\"\n",
    "startTime = System.currentTimeMillis()"
   ]
  },
  {
   "cell_type": "code",
   "execution_count": null,
   "metadata": {},
   "outputs": [],
   "source": [
    "// This will block and be subject to ThreadDeath if kernel shuts down\n",
    "try {\n",
    "    println \"Starting 30 second sleep that can be interrupted by ThreadDeath...\"\n",
    "    Thread.sleep(30000)  // 30 seconds\n",
    "    def endTime = System.currentTimeMillis()\n",
    "    println \"SUCCESS: Sleep completed after ${endTime - startTime}ms\"\n",
    "} catch (ThreadDeath td) {\n",
    "    def endTime = System.currentTimeMillis()\n",
    "    println \"CAUGHT ThreadDeath after ${endTime - startTime}ms: ${td.class.name} - ${td.message}\"\n",
    "    throw td // Re-throw ThreadDeath as it should not be suppressed\n",
    "} catch (InterruptedException ie) {\n",
    "    def endTime = System.currentTimeMillis()\n",
    "    println \"CAUGHT InterruptedException after ${endTime - startTime}ms: ${ie.class.name} - ${ie.message}\"\n",
    "} catch (Exception e) {\n",
    "    def endTime = System.currentTimeMillis()\n",
    "    println \"ERROR after ${endTime - startTime}ms: ${e.class.name} - ${e.message}\"\n",
    "    e.printStackTrace()\n",
    "}"
   ]
  }
 ],
 "metadata": {
  "kernelspec": {
   "display_name": "Micronaut",
   "language": "groovy",
   "name": "micronaut"
  },
  "language_info": {
   "name": "groovy"
  }
 },
 "nbformat": 4,
 "nbformat_minor": 4
}