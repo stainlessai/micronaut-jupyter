{
 "cells": [
  {
   "cell_type": "code",
   "execution_count": null,
   "metadata": {},
   "outputs": [],
   "source": [
    "%import org.slf4j.Logger\n",
    "%import org.slf4j.LoggerFactory\n",
    "%import groovy.util.logging.Slf4j"
   ]
  },
  {
   "cell_type": "code",
   "execution_count": null,
   "metadata": {},
   "outputs": [],
   "source": [
    "log = LoggerFactory.getLogger(\"jupyter.notebook.exception\")"
   ]
  },
  {
   "cell_type": "code",
   "execution_count": null,
   "metadata": {},
   "outputs": [],
   "source": [
    "println \"Before importing ExceptionThrower\"\n",
    "%import ai.stainless.micronaut.jupyter.exception.ExceptionThrower\n",
    "println \"After importing ExceptionThrower\""
   ]
  },
  {
   "cell_type": "code",
   "execution_count": null,
   "metadata": {},
   "outputs": [],
   "source": [
    "println \"Creating ExceptionThrower instance\"\n",
    "thrower = new ExceptionThrower()\n",
    "println \"ExceptionThrower created successfully\""
   ]
  },
  {
   "cell_type": "code",
   "execution_count": null,
   "metadata": {},
   "outputs": [],
   "source": [
    "println \"About to throw RuntimeException\"\n",
    "log.info(\"Calling throwRuntimeException - this should trigger the global exception handler\")\n",
    "thrower.throwRuntimeException()\n",
    "println \"This line should not be reached\""
   ]
  },
  {
   "cell_type": "code",
   "execution_count": null,
   "metadata": {},
   "outputs": [],
   "source": [
    "println \"This cell should still execute after the exception in the previous cell\"\n",
    "log.info(\"Testing that kernel is still responsive after exception handling\")"
   ]
  }
 ],
 "metadata": {
  "kernelspec": {
   "display_name": "Micronaut",
   "language": "groovy",
   "name": "micronaut"
  },
  "language_info": {
   "file_extension": ".groovy",
   "mimetype": "text/x-groovy",
   "name": "Groovy"
  }
 },
 "nbformat": 4,
 "nbformat_minor": 4
}
